{
 "cells": [
  {
   "cell_type": "markdown",
   "metadata": {},
   "source": [
    "Name: Joaquin Quintana\n",
    "\n",
    "Date: 09.30.21"
   ]
  },
  {
   "cell_type": "markdown",
   "metadata": {},
   "source": [
    "# Programming Assignment \\# 1\n",
    "\n",
    "__Goal:__ \n",
    "\n",
    "This programming assignment will ask you to do the following tasks.\n",
    "\n",
    "(a) Implement some of the sorting algorithms for sorting integer data in ascending order in python3.\n",
    "  - Simple sort (implemented for you)\n",
    "  - Bubble Sort (read from book or online sources)\n",
    "  - Merge Sort\n",
    "  - Quicksort \n",
    "  \n",
    "  \n",
    "(b) Your implementation must count the number of *compare* operations each sorting algorithm carries out.\n",
    "    \n",
    "(c) You must formulate a series of arrays of lengths from $5$ to $100$  (step by 5), that will form the worst case of these\n",
    "sorting algorithms and plot the number of comparisons in the __worst case__ vs. size of input array (x axis)\n",
    " \n",
    "(d) Generate $1000$ random inputs for each size and compute average time. Plot the size of input array (x axis) vs. number of comparisons (y axis)"
   ]
  },
  {
   "cell_type": "code",
   "execution_count": 1,
   "metadata": {},
   "outputs": [],
   "source": [
    "# Code for creating an already sorted array\n",
    "def create_ascending_sorted_array(a_size):\n",
    "    a = []\n",
    "    for i in range(a_size):\n",
    "        a.append(i)\n",
    "        #print('Worst Case Array',a)\n",
    "    return a\n",
    "\n",
    "# Code for creating a random array\n",
    "def create_random_shuffled_array(a_size):\n",
    "    a = list(range(a_size))\n",
    "    random.shuffle(a)\n",
    "    #print('Random array', a)\n",
    "    return a"
   ]
  },
  {
   "cell_type": "code",
   "execution_count": 2,
   "metadata": {
    "tags": []
   },
   "outputs": [],
   "source": [
    "#helper function for testing codes and graphs\n",
    "## WRITE CODE HERE TO GENERATE WORST CASE and AVERAGE CASE INPUTS/PLOT\n",
    "## You may cut and paste from code we provided or directly call them\n",
    "\n",
    "import random\n",
    "def tests_BubbleSort(sortingAlogirthm,boolean,title):\n",
    "\n",
    "\n",
    "    # CODE TO GENERATE WORST CASE\n",
    "    array_sizes = range(5, 100, 5)\n",
    "\n",
    "    # Code for creating an already sorted array\n",
    "    def create_ascending_sorted_array(a_size):\n",
    "        a = []\n",
    "        for i in range(a_size):\n",
    "            a.append(i)\n",
    "            #print('Worst Case Array',a)\n",
    "        return a\n",
    "\n",
    "    # Code for creating a random array\n",
    "    def create_random_shuffled_array(a_size):\n",
    "        a = list(range(a_size))\n",
    "        random.shuffle(a)\n",
    "        #print('Random array', a)\n",
    "        return a\n",
    "\n",
    "    # Code for running sorting and generating number of compares\n",
    "    num_compares_wc = []\n",
    "    for n in array_sizes:\n",
    "        a = create_ascending_sorted_array(n)\n",
    "        nc = sortingAlogirthm(a,boolean)\n",
    "        num_compares_wc.append(nc)\n",
    "\n",
    "    # Randomized comparisons\n",
    "    num_compares_random = []\n",
    "    num_trials = 1000\n",
    "    for n in array_sizes:\n",
    "        total = 0\n",
    "        for m in range(num_trials):\n",
    "            a = create_random_shuffled_array(n)\n",
    "            nc = sortingAlogirthm(a,boolean)\n",
    "            total = total + nc\n",
    "        avg = total / num_trials\n",
    "        num_compares_random.append(avg)\n",
    "    # Code for plotting\n",
    "    title = title\n",
    "    \n",
    "    if boolean == 1:\n",
    "        case = 'Best Case'\n",
    "        brk = 'Break Implemented'\n",
    "    else: \n",
    "        case = 'Worst Case'\n",
    "        \n",
    "    plt.plot(array_sizes, num_compares_wc, label=case)\n",
    "    plt.plot(array_sizes, num_compares_random, label='Average Case')\n",
    "    plt.legend([case, 'Average Case'])\n",
    "    plt.title(title +'(' +case+ ' and Average Cases)')\n",
    "    plt.xlabel('Array Size')\n",
    "    plt.ylabel('Number of Comparisons')\n",
    "\n",
    "    plt.show()"
   ]
  },
  {
   "cell_type": "code",
   "execution_count": 3,
   "metadata": {
    "tags": []
   },
   "outputs": [],
   "source": [
    "#helper function for testing codes and graphs\n",
    "## WRITE CODE HERE TO GENERATE WORST CASE and AVERAGE CASE INPUTS/PLOT\n",
    "## You may cut and paste from code we provided or directly call them\n",
    "\n",
    "import random\n",
    "def tests(sortingAlogirthm,title):\n",
    "\n",
    "\n",
    "    # CODE TO GENERATE WORST CASE\n",
    "    array_sizes = range(5, 100, 5)\n",
    "\n",
    "\n",
    "    # Code for running sorting and generating number of compares\n",
    "    num_compares_wc = []\n",
    "    for n in array_sizes:\n",
    "        a = create_ascending_sorted_array(n)\n",
    "        nc = sortingAlogirthm(a)\n",
    "        num_compares_wc.append(nc)\n",
    "\n",
    "    # Randomized comparisons\n",
    "    num_compares_random = []\n",
    "    num_trials = 1000\n",
    "    for n in array_sizes:\n",
    "        total = 0\n",
    "        for m in range(num_trials):\n",
    "            a = create_random_shuffled_array(n)\n",
    "            nc = sortingAlogirthm(a)\n",
    "            total = total + nc\n",
    "        avg = total / num_trials\n",
    "        num_compares_random.append(avg)\n",
    "    # Code for plotting\n",
    "\n",
    "    plt.plot(array_sizes, num_compares_wc, label='Worst Case')\n",
    "    plt.plot(array_sizes, num_compares_random, label='Average Case')\n",
    "    plt.legend(['Worst Case', 'Average Case'])\n",
    "    plt.title(title +' (Worst and Average Cases)')\n",
    "    plt.xlabel('Array Size')\n",
    "    plt.ylabel('Number of Comparisons')\n",
    "\n",
    "    plt.show()"
   ]
  },
  {
   "cell_type": "markdown",
   "metadata": {},
   "source": [
    "----\n",
    "## Simple Sort"
   ]
  },
  {
   "cell_type": "code",
   "execution_count": 4,
   "metadata": {},
   "outputs": [],
   "source": [
    "%matplotlib inline\n",
    "import matplotlib\n",
    "import numpy as np\n",
    "import matplotlib.pyplot as plt\n",
    "\n",
    "def simple_sort(a):\n",
    "    # must sort the array a in place and return the number of comparisons\n",
    "    num_compare = 0\n",
    "    n = len(a)\n",
    "    for i in range(0, n): # i goes from 0 to n-1\n",
    "        for j in range(i+1, n): # j goes from i+1 to n-1\n",
    "            num_compare = num_compare + 1\n",
    "            if a[i] >= a[j]:\n",
    "                # swap\n",
    "                a[i], a[j] = a[j], a[i]\n",
    "    return num_compare"
   ]
  },
  {
   "cell_type": "code",
   "execution_count": 5,
   "metadata": {},
   "outputs": [
    {
     "name": "stdout",
     "output_type": "stream",
     "text": [
      "Num Comparison =  45\n",
      "Sorted Result =  [-2, -1, 1, 2, 3, 3, 4, 10, 15, 29]\n"
     ]
    }
   ],
   "source": [
    "# TESTING CODE\n",
    "a = [3, 10, 1, 29, -1, 4, 3, 15, 2, -2]\n",
    "nc = simple_sort(a)\n",
    "print('Num Comparison = ', nc)\n",
    "print('Sorted Result = ', a)"
   ]
  },
  {
   "cell_type": "markdown",
   "metadata": {},
   "source": [
    "### Complexity analysis of simple sort.\n",
    "\n",
    "Note that simple sort consists of two loops and regardless of the input array, the first loop runs from n steps. And the second loop runs $n-i-1$ steps where $i$ is the index of the first loop. Thus, the worst case, best case and average case complexity should be $\\sum_{j=1}^{n-1} j = \\frac{n(n-1)}{2}$ comparisons = $\\Theta(n^2)$\n",
    "\n",
    "The code below plots it for arrays of size 5, 10, ..., 100. However, we cannot really distinguish between the number of comparisons for randomized vs. worst case."
   ]
  },
  {
   "cell_type": "code",
   "execution_count": 6,
   "metadata": {},
   "outputs": [
    {
     "data": {
      "image/png": "[encoded data removed]",
      "text/plain": [
       "<Figure size 432x288 with 1 Axes>"
      ]
     },
     "metadata": {
      "needs_background": "light"
     },
     "output_type": "display_data"
    }
   ],
   "source": [
    "tests(simple_sort,'Simple Sort')"
   ]
  },
  {
   "cell_type": "markdown",
   "metadata": {
    "tags": []
   },
   "source": [
    "----\n",
    "\n",
    "### Bubble Sort"
   ]
  },
  {
   "cell_type": "code",
   "execution_count": 7,
   "metadata": {},
   "outputs": [],
   "source": [
    "#BUBBLE SORT n^2 unless break is added. \n",
    "def bubble_sort(a,*args):\n",
    "    #outer and inner loop run run n times giving us O(n^2)\n",
    "    # decrement outer loop each time \n",
    "    \n",
    "    if not args:\n",
    "        boolean = 0\n",
    "    else:\n",
    "         boolean = args[0]\n",
    "\n",
    "    \n",
    "    num_compares  = 0\n",
    "    for i in range(len(a)-1, 0, -1):\n",
    "        #optional break for bubble sort. \n",
    "        if boolean == 1:\n",
    "            flag = False\n",
    "            \n",
    "        # examine each item pair\n",
    "        for j in range(i):\n",
    "            #count the number of times we execute \n",
    "            num_compares += 1\n",
    "            # swap\n",
    "            if a[j] > a[j+1]:\n",
    "                temp = a[j]\n",
    "                a[j] = a[j+1]\n",
    "                a[j+1] = temp \n",
    "                #check if user wants to use break \n",
    "                if boolean == 1:\n",
    "                    flag = True\n",
    "        if boolean == 1:\n",
    "        #if no swaps were made we have a sorted array and can exit\n",
    "            if(flag == False):\n",
    "                break\n",
    "    return num_compares"
   ]
  },
  {
   "cell_type": "code",
   "execution_count": 8,
   "metadata": {},
   "outputs": [
    {
     "name": "stdout",
     "output_type": "stream",
     "text": [
      "Num Comparison =  45\n",
      "Sorted Result =  [-2, -1, 1, 2, 3, 3, 4, 10, 15, 29]\n"
     ]
    }
   ],
   "source": [
    "# TESTING CODE\n",
    "a = [3, 10, 1, 29, -1, 4, 3, 15, 2, -2]\n",
    "#run bubble sort with no break\n",
    "nc = bubble_sort(a)\n",
    "print('Num Comparison = ', nc)\n",
    "print('Sorted Result = ', a)"
   ]
  },
  {
   "cell_type": "markdown",
   "metadata": {},
   "source": [
    "### Complexity Analysis of Bubble Sort\n",
    "\n",
    "__Todo: explain what the worst and average cases are. Explain how you would craft inputs for the worst case __\n",
    "\n",
    "Note that bubble sort consists of two loops and in the worst case we run the first loop n times and the second loop $n-i-1$ where i is the index of the first loop. Thus, the worst case, best case and average case complexity should be $\\sum_{j=1}^{n-1} j = \\frac{n(n-1)}{2}$ comparisons = $\\Theta(n^2)$. If the break is present and if anyswaps aren't made we can make bubble sort run in the best case in $\\Theta(n)$ time, but this is not useful. I have added this just to see what it looks like below. "
   ]
  },
  {
   "cell_type": "code",
   "execution_count": 9,
   "metadata": {},
   "outputs": [
    {
     "data": {
      "image/png": "[encoded data removed]",
      "text/plain": [
       "<Figure size 432x288 with 1 Axes>"
      ]
     },
     "metadata": {
      "needs_background": "light"
     },
     "output_type": "display_data"
    }
   ],
   "source": [
    "tests_BubbleSort(bubble_sort,False,'Bubble Sort No Break')"
   ]
  },
  {
   "cell_type": "code",
   "execution_count": 10,
   "metadata": {},
   "outputs": [
    {
     "data": {
      "image/png": "[encoded data removed]",
      "text/plain": [
       "<Figure size 432x288 with 1 Axes>"
      ]
     },
     "metadata": {
      "needs_background": "light"
     },
     "output_type": "display_data"
    }
   ],
   "source": [
    "#use break with bubblesort. This is, if array is sorted stop executions\n",
    "tests_BubbleSort(bubble_sort,True, 'Bubble Sort with Break')"
   ]
  },
  {
   "cell_type": "markdown",
   "metadata": {},
   "source": [
    "----\n",
    "### Merge Sort"
   ]
  },
  {
   "cell_type": "code",
   "execution_count": 11,
   "metadata": {
    "tags": []
   },
   "outputs": [],
   "source": [
    "#MERGE SORT\n",
    "def merge_sort_recursive(a):\n",
    "    \n",
    "    if len(a) > 1:\n",
    "        mid = len(a) // 2\n",
    "        \n",
    "        #rather than passing the lengths in we can just passes them as arrays split from the midpoint\n",
    "        left = a[:mid]\n",
    "        right = a[mid:]\n",
    "        \n",
    "        # recursively break down the arrays\n",
    "        merge_sort_recursive(left)\n",
    "        merge_sort_recursive(right)\n",
    "        merge(a,left,right)\n",
    "    #return the sorted array and the global counter\n",
    "    return count\n",
    "    #return[a,count]"
   ]
  },
  {
   "cell_type": "code",
   "execution_count": 12,
   "metadata": {
    "tags": []
   },
   "outputs": [],
   "source": [
    "#merge algorithm \n",
    "def merge(a,left,right):\n",
    "        i=j=k=0 # index for left array, index for right array,index for merged array\n",
    "        #count = 0\n",
    "        global count #declare global counter\n",
    "        # while both arrays have content\n",
    "        while i < len(left) and j < len(right):\n",
    "            #count comparison\n",
    "            count+=1\n",
    "\n",
    "            if left[i] < right[j]:\n",
    "                a[k] = left[i]\n",
    "                i += 1\n",
    "            else:\n",
    "                a[k] = right[j]\n",
    "                j += 1\n",
    "            k += 1\n",
    "\n",
    "        # left array still has values \n",
    "        while i < len(left):\n",
    "            #count comparison\n",
    "            count+=1\n",
    "            a[k] = left[i]\n",
    "            i += 1\n",
    "            k += 1\n",
    "\n",
    "        # right array still has values\n",
    "        while j < len(right):\n",
    "            #count comparison\n",
    "            count+=1\n",
    "            a[k] = right[j]\n",
    "            j += 1\n",
    "            k += 1"
   ]
  },
  {
   "cell_type": "code",
   "execution_count": 13,
   "metadata": {},
   "outputs": [],
   "source": [
    "def merge_sort(a):\n",
    "    #for some reason we are asked to have this caller function to the recusive function\n",
    "    global count #declare counter\n",
    "    count  = 0 #intiate counter \n",
    "    # Implement the code for merge sort\n",
    "    # Use a function merge_sort_recursive to implement the recursive call\n",
    "    # Be careful in counting number of comparisons since you should include comparisons in the merge part.\n",
    "    # Also: code needs to sort the array a. You may have to copy things over from a temp array back into a.\n",
    "    return merge_sort_recursive(a)"
   ]
  },
  {
   "cell_type": "code",
   "execution_count": 14,
   "metadata": {},
   "outputs": [
    {
     "name": "stdout",
     "output_type": "stream",
     "text": [
      "Num Comparison =  34\n",
      "Sorted Result =  [-2, -1, 1, 2, 3, 3, 4, 10, 15, 29]\n"
     ]
    }
   ],
   "source": [
    "# TESTING CODE\n",
    "a = [3, 10, 1, 29, -1, 4, 3, 15, 2, -2]\n",
    "nc = merge_sort(a)\n",
    "print('Num Comparison = ', nc)\n",
    "print('Sorted Result = ', a)"
   ]
  },
  {
   "cell_type": "markdown",
   "metadata": {},
   "source": [
    "### Complexity Analysis of Merge Sort\n",
    "\n",
    "__Todo: explain what the worst and average cases are. Explain how you would craft inputs for the worst case __\n"
   ]
  },
  {
   "cell_type": "markdown",
   "metadata": {},
   "source": [
    "Merge sort in all cases returns the same time complexity as it must iterate through all of the elements in the array and the divide and conquer requires log(n) steps. Therefore, with mergsort we get a time complexity of $\\Theta(nlog(n))$ in worst, best and average case. "
   ]
  },
  {
   "cell_type": "code",
   "execution_count": 15,
   "metadata": {},
   "outputs": [
    {
     "data": {
      "image/png": "[encoded data removed]",
      "text/plain": [
       "<Figure size 432x288 with 1 Axes>"
      ]
     },
     "metadata": {
      "needs_background": "light"
     },
     "output_type": "display_data"
    }
   ],
   "source": [
    "tests(merge_sort,'Merge Sort')"
   ]
  },
  {
   "cell_type": "markdown",
   "metadata": {},
   "source": [
    "----\n",
    "### Quick Sort\n"
   ]
  },
  {
   "cell_type": "code",
   "execution_count": 16,
   "metadata": {},
   "outputs": [],
   "source": [
    "def quick_sort_recursive(a, first, last):\n",
    "    if first < last:\n",
    "        # calculate the split point\n",
    "        pivotIdx = lomuto_partition(a, first, last)\n",
    "\n",
    "        # now sort the two partitions\n",
    "        quick_sort_recursive(a, first, pivotIdx-1)\n",
    "        quick_sort_recursive(a, pivotIdx+1, last)\n",
    "    return comparisons\n",
    "    #return [a,comparisons]"
   ]
  },
  {
   "cell_type": "code",
   "execution_count": 17,
   "metadata": {},
   "outputs": [],
   "source": [
    "#Lomuto Partitioning\n",
    "def lomuto_partition(a,first,last):\n",
    "    x = a[last] #start at last element for pivot\n",
    "    \n",
    "    #start j at 1 and i at 0\n",
    "    i = first -1\n",
    "\n",
    "    for j in range(first,last,1):\n",
    "        \n",
    "        global comparisons\n",
    "        comparisons += 1\n",
    "        \n",
    "        if a[j]< x:\n",
    "            \n",
    "            temp = a[i+1]\n",
    "            a[i+1] = a[j]\n",
    "            a[j] = temp \n",
    "            i += 1\n",
    "            #print(i,j)\n",
    "            #print(a)\n",
    "\n",
    "    temp = a[i+1]\n",
    "    a[i+1] = a[last]\n",
    "    a[last] = temp \n",
    "    #print(a)\n",
    "\n",
    "    return i+1"
   ]
  },
  {
   "cell_type": "code",
   "execution_count": 18,
   "metadata": {},
   "outputs": [],
   "source": [
    "#def quick_sort(a):\n",
    "    # Implement code for quick sort\n",
    "    # Must sort the array a in place\n",
    "    # Must return the number of comparisons\n",
    "#    return # you can implement it how you wish\n",
    "\n",
    "#implement helper function to start the recursive calls for testing \n",
    "def quick_sort(a):\n",
    "    \n",
    "    global comparisons \n",
    "    comparisons = 0\n",
    "    \n",
    "    first = 0\n",
    "    last = len(a)-1\n",
    "    \n",
    "    return quick_sort_recursive(a,first,last)"
   ]
  },
  {
   "cell_type": "code",
   "execution_count": 19,
   "metadata": {},
   "outputs": [
    {
     "name": "stdout",
     "output_type": "stream",
     "text": [
      "Num Comparison =  26\n",
      "Sorted Result =  [-2, -1, 1, 2, 3, 3, 4, 10, 15, 29]\n"
     ]
    }
   ],
   "source": [
    "# TESTING CODE\n",
    "a = [3, 10, 1, 29, -1, 4, 3, 15, 2, -2]\n",
    "nc = quick_sort(a)\n",
    "print('Num Comparison = ', nc)\n",
    "print('Sorted Result = ', a)"
   ]
  },
  {
   "cell_type": "markdown",
   "metadata": {},
   "source": [
    "### Complexity Analysis of Quick Sort\n",
    "\n",
    "__Todo: explain what the worst and average cases are. Explain how you would craft inputs for the worst case __\n",
    "\n",
    "Worst case occurs when the pivot chosen places one element into a partition and all the other elements in the other partition. This occurs when either the largest or smallest element is selected as the pivot and the array is sorted. This will result in $\\Theta(N^2)$ time complexity. So the way I have written the partion algorthim the worst case occurs when the array is in sorted on ascending order as I have the pivot set to be the last element in the array. This will always provide the worst case as the array is sorted and we pick the last or largest element in the array creating the scenario for the worst case partioning descirbed above. However, if the array is not sorted then on average the last element is not the smallest or largest and we get decent partions which then provides a time complexity of $\\Theta(nlog(n))$."
   ]
  },
  {
   "cell_type": "code",
   "execution_count": 20,
   "metadata": {},
   "outputs": [
    {
     "data": {
      "image/png": "[encoded data removed]",
      "text/plain": [
       "<Figure size 432x288 with 1 Axes>"
      ]
     },
     "metadata": {
      "needs_background": "light"
     },
     "output_type": "display_data"
    }
   ],
   "source": [
    "## WRITE CODE HERE TO GENERATE WORST CASE and AVERAGE CASE INPUTS/PLOT\n",
    "## You may cut and paste from code we provided or directly call them\n",
    "tests(quick_sort,'Quick Sort')"
   ]
  },
  {
   "cell_type": "markdown",
   "metadata": {},
   "source": [
    "-----\n",
    "## Testing Code: Do not edit\n",
    "\n"
   ]
  },
  {
   "cell_type": "code",
   "execution_count": 21,
   "metadata": {},
   "outputs": [],
   "source": [
    "def test_sorting_algorithm(sort_fun, sz, num_trials):\n",
    "    num_passed = 0\n",
    "    for i in range(num_trials):\n",
    "        a = create_random_shuffled_array(sz)\n",
    "        a_orig = list(a) # make a copy\n",
    "        b = sorted(a)\n",
    "        nc = sort_fun(a)\n",
    "        if a == b:\n",
    "            num_passed = num_passed + 1\n",
    "        else:\n",
    "            print('----')\n",
    "            print('FAILED: Input = ', a_orig)\n",
    "            print('Expected: ', b)\n",
    "            print('Obtained:', a)\n",
    "            print('----')\n",
    "    print('Num Trials = ', num_trials)\n",
    "    print('Num Passed = ', num_passed)"
   ]
  },
  {
   "cell_type": "code",
   "execution_count": 22,
   "metadata": {},
   "outputs": [
    {
     "name": "stdout",
     "output_type": "stream",
     "text": [
      "Num Trials =  100\n",
      "Num Passed =  100\n"
     ]
    }
   ],
   "source": [
    "test_sorting_algorithm(simple_sort, 50, 100)"
   ]
  },
  {
   "cell_type": "code",
   "execution_count": 23,
   "metadata": {},
   "outputs": [
    {
     "name": "stdout",
     "output_type": "stream",
     "text": [
      "Num Trials =  10\n",
      "Num Passed =  10\n"
     ]
    }
   ],
   "source": [
    "test_sorting_algorithm(bubble_sort, 10, 10)"
   ]
  },
  {
   "cell_type": "code",
   "execution_count": 24,
   "metadata": {},
   "outputs": [
    {
     "name": "stdout",
     "output_type": "stream",
     "text": [
      "Num Trials =  10\n",
      "Num Passed =  10\n"
     ]
    }
   ],
   "source": [
    "test_sorting_algorithm(merge_sort, 10, 10)"
   ]
  },
  {
   "cell_type": "code",
   "execution_count": 25,
   "metadata": {},
   "outputs": [
    {
     "name": "stdout",
     "output_type": "stream",
     "text": [
      "Num Trials =  10\n",
      "Num Passed =  10\n"
     ]
    }
   ],
   "source": [
    "test_sorting_algorithm(quick_sort, 10, 10)"
   ]
  }
 ],
 "metadata": {
  "kernelspec": {
   "display_name": "Python 3",
   "language": "python",
   "name": "python3"
  },
  "language_info": {
   "codemirror_mode": {
    "name": "ipython",
    "version": 3
   },
   "file_extension": ".py",
   "mimetype": "text/x-python",
   "name": "python",
   "nbconvert_exporter": "python",
   "pygments_lexer": "ipython3",
   "version": "3.8.8"
  }
 },
 "nbformat": 4,
 "nbformat_minor": 4
}
